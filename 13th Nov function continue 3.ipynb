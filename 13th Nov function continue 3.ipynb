{
 "cells": [
  {
   "cell_type": "markdown",
   "id": "b2f5e8fb",
   "metadata": {},
   "source": [
    "# Lambda and other topics\n",
    "\n",
    "Lambda is an anonymus function which means it is not having any name but it is also used to do some specific functionality"
   ]
  },
  {
   "cell_type": "code",
   "execution_count": 1,
   "id": "5ae0a7bc",
   "metadata": {},
   "outputs": [],
   "source": [
    " def s(a,b):\n",
    "        return a+b"
   ]
  },
  {
   "cell_type": "code",
   "execution_count": 4,
   "id": "d9326ac2",
   "metadata": {},
   "outputs": [
    {
     "data": {
      "text/plain": [
       "<function __main__.<lambda>(a, b)>"
      ]
     },
     "execution_count": 4,
     "metadata": {},
     "output_type": "execute_result"
    }
   ],
   "source": [
    "lambda a,b:a+b"
   ]
  },
  {
   "cell_type": "code",
   "execution_count": 5,
   "id": "c16588eb",
   "metadata": {},
   "outputs": [],
   "source": [
    "#now let's save it in a variable\n",
    "b=lambda a,b:a+b"
   ]
  },
  {
   "cell_type": "code",
   "execution_count": 8,
   "id": "e249856f",
   "metadata": {},
   "outputs": [
    {
     "data": {
      "text/plain": [
       "9"
      ]
     },
     "execution_count": 8,
     "metadata": {},
     "output_type": "execute_result"
    }
   ],
   "source": [
    "s(4,5)\n"
   ]
  },
  {
   "cell_type": "code",
   "execution_count": 7,
   "id": "3a42d91b",
   "metadata": {},
   "outputs": [
    {
     "data": {
      "text/plain": [
       "9"
      ]
     },
     "execution_count": 7,
     "metadata": {},
     "output_type": "execute_result"
    }
   ],
   "source": [
    "b(4,5)"
   ]
  },
  {
   "cell_type": "code",
   "execution_count": 10,
   "id": "0cda619e",
   "metadata": {},
   "outputs": [],
   "source": [
    "c=lambda *a:a"
   ]
  },
  {
   "cell_type": "code",
   "execution_count": 12,
   "id": "97f5acae",
   "metadata": {},
   "outputs": [
    {
     "data": {
      "text/plain": [
       "(1, 2, 3, 4, 5, 6, 7, 8, 9)"
      ]
     },
     "execution_count": 12,
     "metadata": {},
     "output_type": "execute_result"
    }
   ],
   "source": [
    "c(1,2,3,4,5,6,7,8,9)\n",
    "#Point to be noted that this lambda function is also arranging the input data in tuple for as function do"
   ]
  },
  {
   "cell_type": "code",
   "execution_count": 15,
   "id": "7592e2ad",
   "metadata": {},
   "outputs": [],
   "source": [
    "def ss(a):\n",
    "    return a+10"
   ]
  },
  {
   "cell_type": "markdown",
   "id": "5013a81e",
   "metadata": {},
   "source": [
    "## Mapping"
   ]
  },
  {
   "cell_type": "code",
   "execution_count": 16,
   "id": "328a88d9",
   "metadata": {},
   "outputs": [
    {
     "data": {
      "text/plain": [
       "[11, 12, 13, 14, 15, 16]"
      ]
     },
     "execution_count": 16,
     "metadata": {},
     "output_type": "execute_result"
    }
   ],
   "source": [
    "#Using function to add 10 in all the items of list \n",
    "l=[1,2,3,4,5,6]\n",
    "list(map(ss,l))\n",
    "#Map is use to take 1 by 1 every elements of 2nd place argument and give it to the function for the addition"
   ]
  },
  {
   "cell_type": "code",
   "execution_count": 20,
   "id": "101d341c",
   "metadata": {},
   "outputs": [
    {
     "data": {
      "text/plain": [
       "[11, 12, 13, 14, 15, 16]"
      ]
     },
     "execution_count": 20,
     "metadata": {},
     "output_type": "execute_result"
    }
   ],
   "source": [
    "#Same thing we can also do with lambda \n",
    "list(map(lambda a:a+10,l))"
   ]
  },
  {
   "cell_type": "code",
   "execution_count": 23,
   "id": "1bc7baa6",
   "metadata": {},
   "outputs": [
    {
     "data": {
      "text/plain": [
       "['GEETU', 'VISHU']"
      ]
     },
     "execution_count": 23,
     "metadata": {},
     "output_type": "execute_result"
    }
   ],
   "source": [
    "#There are varietiesa of functionn we can perform using the map function \n",
    "\n",
    "#Problem statement: e=['geetu','vishu']   convert it innto upper case\n",
    "\n",
    "e=['geetu','vishu'] \n",
    "list(map(lambda a:a.upper(),e))\n",
    "\n",
    "#Amazing!! man"
   ]
  },
  {
   "cell_type": "code",
   "execution_count": 28,
   "id": "0b33f2e5",
   "metadata": {},
   "outputs": [
    {
     "data": {
      "text/plain": [
       "[None, 2, None, 4, None, 6]"
      ]
     },
     "execution_count": 28,
     "metadata": {},
     "output_type": "execute_result"
    }
   ],
   "source": [
    "# from a list only take even numbers\n",
    "list(map(lambda a:a if a%2==0 else None,l))\n",
    "# crazy man , You ace it"
   ]
  },
  {
   "cell_type": "code",
   "execution_count": 37,
   "id": "2ff51e36",
   "metadata": {},
   "outputs": [
    {
     "data": {
      "text/plain": [
       "[1, 'Some even no', 3, 'Some even no', 5, 'Some even no']"
      ]
     },
     "execution_count": 37,
     "metadata": {},
     "output_type": "execute_result"
    }
   ],
   "source": [
    "list(map(lambda a:a if a%2!=0 else 'Some even no',l)) #---------->Map output with same lambda function"
   ]
  },
  {
   "cell_type": "markdown",
   "id": "ebc8965e",
   "metadata": {},
   "source": [
    "## Filter\n",
    "\n",
    "\n",
    "Difference between filter and map is that after using the same function in filter and map , Filter will return only the value which is satisfying the ture condition whereas map condition takes all the values whether it is true all false "
   ]
  },
  {
   "cell_type": "code",
   "execution_count": 38,
   "id": "50cf77af",
   "metadata": {},
   "outputs": [
    {
     "data": {
      "text/plain": [
       "[2, 4, 6]"
      ]
     },
     "execution_count": 38,
     "metadata": {},
     "output_type": "execute_result"
    }
   ],
   "source": [
    "list(filter(lambda a:a if a%2==0 else None,l))     #------------->Filter output with same lambda function"
   ]
  },
  {
   "cell_type": "markdown",
   "id": "485d239c",
   "metadata": {},
   "source": [
    "## Reduce function"
   ]
  },
  {
   "cell_type": "code",
   "execution_count": 41,
   "id": "d9b21a8a",
   "metadata": {},
   "outputs": [
    {
     "data": {
      "text/plain": [
       "21"
      ]
     },
     "execution_count": 41,
     "metadata": {},
     "output_type": "execute_result"
    }
   ],
   "source": [
    "# we will multiply all the items of a list\n",
    "from functools import reduce\n",
    "l=[1,2,3,4,5,6]\n",
    "reduce(lambda a,b:a+b,l)\n",
    "\n",
    "# Reduce function basically helps to take 2 no. at a time and do funciton on it and take 2 no. again in this \n",
    "#way it reduce the list and do a same function for whole list\n",
    "#But if you make lambda which is taking 3 inputs at a time it might not work for every confition so always take 2 input at \n",
    "# 1 time"
   ]
  },
  {
   "cell_type": "markdown",
   "id": "6ce8269a",
   "metadata": {},
   "source": [
    "### Exception in reduce"
   ]
  },
  {
   "cell_type": "code",
   "execution_count": 43,
   "id": "279833c2",
   "metadata": {},
   "outputs": [
    {
     "data": {
      "text/plain": [
       "4"
      ]
     },
     "execution_count": 43,
     "metadata": {},
     "output_type": "execute_result"
    }
   ],
   "source": [
    "#But it is also having one exception that \n",
    "d=[4]\n",
    "reduce(lambda a,b:a+b,d)\n",
    "#Even it should take 2 input and even we are not providing it 2 inputs so it should give error but its not happening\n"
   ]
  },
  {
   "cell_type": "code",
   "execution_count": 44,
   "id": "bc97d7bf",
   "metadata": {},
   "outputs": [],
   "source": [
    "def dd(a,b):\n",
    "    \"\"\"To sum up\"\"\"\n",
    "    return a+b"
   ]
  },
  {
   "cell_type": "code",
   "execution_count": 47,
   "id": "01095791",
   "metadata": {},
   "outputs": [
    {
     "data": {
      "text/plain": [
       "3"
      ]
     },
     "execution_count": 47,
     "metadata": {},
     "output_type": "execute_result"
    }
   ],
   "source": [
    "dd(1,2)  #-->press shift+tab to get the doc string \n"
   ]
  },
  {
   "cell_type": "code",
   "execution_count": 50,
   "id": "841f25ff",
   "metadata": {},
   "outputs": [],
   "source": [
    "#Let's us do some modification \n",
    "def bb(a,b) ->str:\n",
    "    return a+b"
   ]
  },
  {
   "cell_type": "code",
   "execution_count": 53,
   "id": "5dd0ae62",
   "metadata": {},
   "outputs": [
    {
     "data": {
      "text/plain": [
       "'geetu'"
      ]
     },
     "execution_count": 53,
     "metadata": {},
     "output_type": "execute_result"
    }
   ],
   "source": [
    "bb('gee','tu')  #--->now check the doc string and you will get some difference between description of both the function \n",
    "#and check the indicator and you will get that this function is indicating that you should fill string in this "
   ]
  },
  {
   "cell_type": "code",
   "execution_count": null,
   "id": "41650988",
   "metadata": {},
   "outputs": [],
   "source": []
  }
 ],
 "metadata": {
  "kernelspec": {
   "display_name": "Python 3 (ipykernel)",
   "language": "python",
   "name": "python3"
  },
  "language_info": {
   "codemirror_mode": {
    "name": "ipython",
    "version": 3
   },
   "file_extension": ".py",
   "mimetype": "text/x-python",
   "name": "python",
   "nbconvert_exporter": "python",
   "pygments_lexer": "ipython3",
   "version": "3.9.12"
  }
 },
 "nbformat": 4,
 "nbformat_minor": 5
}
