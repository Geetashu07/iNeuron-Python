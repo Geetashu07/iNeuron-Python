{
 "cells": [
  {
   "cell_type": "code",
   "execution_count": 1,
   "id": "c1e44155",
   "metadata": {},
   "outputs": [],
   "source": [
    "# Function helps to reduce our work to write a same code again and again to perform same task  "
   ]
  },
  {
   "cell_type": "code",
   "execution_count": 2,
   "id": "48eda602",
   "metadata": {},
   "outputs": [],
   "source": [
    "# To increase the reusability of code again and again"
   ]
  },
  {
   "cell_type": "code",
   "execution_count": 3,
   "id": "0fd0bc04",
   "metadata": {},
   "outputs": [],
   "source": [
    "def test():\n",
    "    print('My home is beautiful')"
   ]
  },
  {
   "cell_type": "code",
   "execution_count": 4,
   "id": "40583eba",
   "metadata": {},
   "outputs": [
    {
     "name": "stdout",
     "output_type": "stream",
     "text": [
      "My home is beautiful\n"
     ]
    }
   ],
   "source": [
    "test()"
   ]
  },
  {
   "cell_type": "code",
   "execution_count": 6,
   "id": "785429c9",
   "metadata": {},
   "outputs": [
    {
     "name": "stdout",
     "output_type": "stream",
     "text": [
      "My home is beautiful\n"
     ]
    },
    {
     "data": {
      "text/plain": [
       "NoneType"
      ]
     },
     "execution_count": 6,
     "metadata": {},
     "output_type": "execute_result"
    }
   ],
   "source": [
    "a=test()\n",
    "type(a)"
   ]
  },
  {
   "cell_type": "code",
   "execution_count": 9,
   "id": "b58acbfd",
   "metadata": {},
   "outputs": [
    {
     "ename": "TypeError",
     "evalue": "can only concatenate str (not \"NoneType\") to str",
     "output_type": "error",
     "traceback": [
      "\u001b[1;31m---------------------------------------------------------------------------\u001b[0m",
      "\u001b[1;31mTypeError\u001b[0m                                 Traceback (most recent call last)",
      "Input \u001b[1;32mIn [9]\u001b[0m, in \u001b[0;36m<cell line: 1>\u001b[1;34m()\u001b[0m\n\u001b[1;32m----> 1\u001b[0m \u001b[38;5;124;43m'\u001b[39;49m\u001b[38;5;124;43me\u001b[39;49m\u001b[38;5;124;43m'\u001b[39;49m\u001b[38;5;241;43m+\u001b[39;49m\u001b[43ma\u001b[49m\n",
      "\u001b[1;31mTypeError\u001b[0m: can only concatenate str (not \"NoneType\") to str"
     ]
    }
   ],
   "source": [
    "'e'+a\n",
    "#Because you can't add nonetype with string type thing or anyother "
   ]
  },
  {
   "cell_type": "code",
   "execution_count": 12,
   "id": "ebade012",
   "metadata": {},
   "outputs": [],
   "source": [
    "def test1():\n",
    "    return 'My home is beautiful'"
   ]
  },
  {
   "cell_type": "code",
   "execution_count": 13,
   "id": "37103b90",
   "metadata": {},
   "outputs": [
    {
     "data": {
      "text/plain": [
       "'My home is beautiful'"
      ]
     },
     "execution_count": 13,
     "metadata": {},
     "output_type": "execute_result"
    }
   ],
   "source": [
    "b=test1()\n",
    "b"
   ]
  },
  {
   "cell_type": "code",
   "execution_count": 14,
   "id": "7ff550b0",
   "metadata": {},
   "outputs": [
    {
     "data": {
      "text/plain": [
       "str"
      ]
     },
     "execution_count": 14,
     "metadata": {},
     "output_type": "execute_result"
    }
   ],
   "source": [
    "type(b)"
   ]
  },
  {
   "cell_type": "code",
   "execution_count": 16,
   "id": "e4439f48",
   "metadata": {},
   "outputs": [
    {
     "data": {
      "text/plain": [
       "'eMy home is beautiful'"
      ]
     },
     "execution_count": 16,
     "metadata": {},
     "output_type": "execute_result"
    }
   ],
   "source": [
    "'e'+b\n",
    "#this getting concanitaed because we can add datatype str with str"
   ]
  },
  {
   "cell_type": "code",
   "execution_count": 17,
   "id": "2891c4f9",
   "metadata": {},
   "outputs": [],
   "source": [
    "#some new thing and creative thing\n",
    "def llist():\n",
    "    return 'a',[1,2,3],['a','b']"
   ]
  },
  {
   "cell_type": "code",
   "execution_count": 18,
   "id": "d2ee79e4",
   "metadata": {},
   "outputs": [
    {
     "data": {
      "text/plain": [
       "('a', [1, 2, 3], ['a', 'b'])"
      ]
     },
     "execution_count": 18,
     "metadata": {},
     "output_type": "execute_result"
    }
   ],
   "source": [
    "llist()"
   ]
  },
  {
   "cell_type": "code",
   "execution_count": 19,
   "id": "9881c6df",
   "metadata": {},
   "outputs": [],
   "source": [
    "a,b,c=llist()"
   ]
  },
  {
   "cell_type": "code",
   "execution_count": 20,
   "id": "76531e04",
   "metadata": {},
   "outputs": [
    {
     "data": {
      "text/plain": [
       "'a'"
      ]
     },
     "execution_count": 20,
     "metadata": {},
     "output_type": "execute_result"
    }
   ],
   "source": [
    "a"
   ]
  },
  {
   "cell_type": "code",
   "execution_count": 21,
   "id": "8d84feb0",
   "metadata": {},
   "outputs": [
    {
     "data": {
      "text/plain": [
       "[1, 2, 3]"
      ]
     },
     "execution_count": 21,
     "metadata": {},
     "output_type": "execute_result"
    }
   ],
   "source": [
    "b"
   ]
  },
  {
   "cell_type": "code",
   "execution_count": 22,
   "id": "91395d67",
   "metadata": {},
   "outputs": [
    {
     "data": {
      "text/plain": [
       "['a', 'b']"
      ]
     },
     "execution_count": 22,
     "metadata": {},
     "output_type": "execute_result"
    }
   ],
   "source": [
    "c"
   ]
  },
  {
   "cell_type": "code",
   "execution_count": 23,
   "id": "1b764d51",
   "metadata": {},
   "outputs": [
    {
     "name": "stdout",
     "output_type": "stream",
     "text": [
      "45\n"
     ]
    }
   ],
   "source": [
    "l=[1,2,3,4,5,6,7,8,9]\n",
    "d=0\n",
    "for i in l:\n",
    "    d+=i\n",
    "print(d)"
   ]
  },
  {
   "cell_type": "code",
   "execution_count": 24,
   "id": "2f27faaf",
   "metadata": {},
   "outputs": [],
   "source": [
    "def test3(a):\n",
    "    e=0\n",
    "    for i in a:\n",
    "        e+=i\n",
    "    return e\n",
    "        "
   ]
  },
  {
   "cell_type": "code",
   "execution_count": 25,
   "id": "a2595cc8",
   "metadata": {},
   "outputs": [],
   "source": [
    "def test4(a):\n",
    "    e=0\n",
    "    for i in a:\n",
    "        e+=i\n",
    "    print(e)\n",
    "        "
   ]
  },
  {
   "cell_type": "code",
   "execution_count": 26,
   "id": "928117ab",
   "metadata": {},
   "outputs": [
    {
     "data": {
      "text/plain": [
       "45"
      ]
     },
     "execution_count": 26,
     "metadata": {},
     "output_type": "execute_result"
    }
   ],
   "source": [
    "test3(l)"
   ]
  },
  {
   "cell_type": "code",
   "execution_count": 27,
   "id": "fd76764a",
   "metadata": {},
   "outputs": [
    {
     "name": "stdout",
     "output_type": "stream",
     "text": [
      "45\n"
     ]
    }
   ],
   "source": [
    "test4(l)"
   ]
  },
  {
   "cell_type": "code",
   "execution_count": 29,
   "id": "59495ec5",
   "metadata": {},
   "outputs": [
    {
     "name": "stdout",
     "output_type": "stream",
     "text": [
      "45\n"
     ]
    },
    {
     "ename": "TypeError",
     "evalue": "unsupported operand type(s) for +: 'int' and 'NoneType'",
     "output_type": "error",
     "traceback": [
      "\u001b[1;31m---------------------------------------------------------------------------\u001b[0m",
      "\u001b[1;31mTypeError\u001b[0m                                 Traceback (most recent call last)",
      "Input \u001b[1;32mIn [29]\u001b[0m, in \u001b[0;36m<cell line: 1>\u001b[1;34m()\u001b[0m\n\u001b[1;32m----> 1\u001b[0m \u001b[43mtest3\u001b[49m\u001b[43m(\u001b[49m\u001b[43ml\u001b[49m\u001b[43m)\u001b[49m\u001b[38;5;241;43m+\u001b[39;49m\u001b[43mtest4\u001b[49m\u001b[43m(\u001b[49m\u001b[43ml\u001b[49m\u001b[43m)\u001b[49m\n",
      "\u001b[1;31mTypeError\u001b[0m: unsupported operand type(s) for +: 'int' and 'NoneType'"
     ]
    }
   ],
   "source": [
    "test3(l)+test4(l)\n",
    "# Again same thing is happening that ' You can't add data of integer with nonedatatype'"
   ]
  },
  {
   "cell_type": "code",
   "execution_count": 31,
   "id": "62141d7f",
   "metadata": {},
   "outputs": [],
   "source": [
    "# let's do one more interesting thing\n",
    "r=[1,23,4,5,'sfs',7,8]\n",
    "#How u make a function to just add the numeric item\n",
    "def test3(a):\n",
    "    q=0\n",
    "    for i in a:\n",
    "        if type(i)==int:\n",
    "            q+=i\n",
    "    return q"
   ]
  },
  {
   "cell_type": "code",
   "execution_count": 32,
   "id": "d3dfb7e0",
   "metadata": {},
   "outputs": [
    {
     "data": {
      "text/plain": [
       "48"
      ]
     },
     "execution_count": 32,
     "metadata": {},
     "output_type": "execute_result"
    }
   ],
   "source": [
    "test3(r)\n",
    "print()\n",
    "#now get onto the print() and press shift and tab"
   ]
  },
  {
   "cell_type": "code",
   "execution_count": 33,
   "id": "f78691fe",
   "metadata": {},
   "outputs": [],
   "source": [
    "# What is doc string\n",
    "def test4(a):\n",
    "    '''This will help you to add only int vaules from the mix list you will provide to this functions\n",
    "    '''\n",
    "    q=0\n",
    "    for i in a:\n",
    "        if type(i)==int:\n",
    "            q+=i\n",
    "    return q"
   ]
  },
  {
   "cell_type": "code",
   "execution_count": 35,
   "id": "91564325",
   "metadata": {},
   "outputs": [
    {
     "data": {
      "text/plain": [
       "48"
      ]
     },
     "execution_count": 35,
     "metadata": {},
     "output_type": "execute_result"
    }
   ],
   "source": [
    "test4(r)\n",
    "# Now get onto the test4 and press shift+tab and you woll get the details of the function\n"
   ]
  },
  {
   "cell_type": "code",
   "execution_count": 36,
   "id": "038ec109",
   "metadata": {},
   "outputs": [],
   "source": [
    "# Makeunction to fill the length of the string without using inbuilt function\n",
    "\n",
    "def test5(a):\n",
    "    q=0\n",
    "    for i in a:\n",
    "        q+=1\n",
    "    return q\n",
    "        \n",
    "        "
   ]
  },
  {
   "cell_type": "code",
   "execution_count": 37,
   "id": "dc5648bc",
   "metadata": {},
   "outputs": [
    {
     "data": {
      "text/plain": [
       "9"
      ]
     },
     "execution_count": 37,
     "metadata": {},
     "output_type": "execute_result"
    }
   ],
   "source": [
    "a='hello don'\n",
    "test5(a)"
   ]
  },
  {
   "cell_type": "code",
   "execution_count": 38,
   "id": "b7e3880f",
   "metadata": {},
   "outputs": [],
   "source": [
    "#library- os and socket"
   ]
  },
  {
   "cell_type": "code",
   "execution_count": 48,
   "id": "7bb33120",
   "metadata": {},
   "outputs": [],
   "source": [
    "# Now we are going to use args in creating a functionn \n",
    "def arg_test(*args):\n",
    "    '''This function will give you all the input you will give in the form of tuple'''\n",
    "    return args\n"
   ]
  },
  {
   "cell_type": "code",
   "execution_count": 41,
   "id": "1c4dfd9d",
   "metadata": {},
   "outputs": [
    {
     "data": {
      "text/plain": [
       "(1, 2, 3, 4, 'geetu', 'Gopi', 78, 89)"
      ]
     },
     "execution_count": 41,
     "metadata": {},
     "output_type": "execute_result"
    }
   ],
   "source": [
    "arg_test(1,2,3,4,'geetu','Gopi',78,89)\n",
    "#So what does it mean?\n",
    "# it means if you simply return args it will give it to you in the form of tuples\n"
   ]
  },
  {
   "cell_type": "code",
   "execution_count": 47,
   "id": "0f641716",
   "metadata": {},
   "outputs": [],
   "source": [
    "#Now let's check how can we get it in the form of list\n",
    "def list_test(*args):\n",
    "    '''This functionn can take any no. of input and return you all of the input in the form of list'''\n",
    "    return list(args)"
   ]
  },
  {
   "cell_type": "code",
   "execution_count": 44,
   "id": "f37eaf79",
   "metadata": {},
   "outputs": [
    {
     "data": {
      "text/plain": [
       "[1, 2, 3, 4, 'geetu', 'Gopi', 78, 89]"
      ]
     },
     "execution_count": 44,
     "metadata": {},
     "output_type": "execute_result"
    }
   ],
   "source": [
    "list_test(1,2,3,4,'geetu','Gopi',78,89)"
   ]
  },
  {
   "cell_type": "code",
   "execution_count": 49,
   "id": "110cd4bd",
   "metadata": {},
   "outputs": [],
   "source": [
    "#One more interesting thing is there that while using args , instead of using args you can use any thing\n",
    "# I am demostrating this with the example below\n",
    "def any_test(*geetu):\n",
    "    return geetu\n",
    "# so the main things is we can use anything in the places of args and the main thing is *"
   ]
  },
  {
   "cell_type": "code",
   "execution_count": 52,
   "id": "a4624b47",
   "metadata": {},
   "outputs": [
    {
     "data": {
      "text/plain": [
       "(1, 4, 5, 4, 2, 'geetu')"
      ]
     },
     "execution_count": 52,
     "metadata": {},
     "output_type": "execute_result"
    }
   ],
   "source": [
    "any_test(1,4,5,4,2,'geetu')\n",
    "#Is not it a amazing thing"
   ]
  },
  {
   "cell_type": "code",
   "execution_count": 53,
   "id": "132a702a",
   "metadata": {},
   "outputs": [],
   "source": [
    "#Let's jump into an interesting topic that is dictionary - key value pair\n",
    "uu={'a':'Geetu','b':'Vishu',3:'Gita'}"
   ]
  },
  {
   "cell_type": "code",
   "execution_count": 55,
   "id": "8c4db50c",
   "metadata": {},
   "outputs": [
    {
     "name": "stdout",
     "output_type": "stream",
     "text": [
      "a\n",
      "b\n",
      "3\n"
     ]
    }
   ],
   "source": [
    "# Bydefault you u simply run a for loop, It will give ypu the key as in return\n",
    "for i in uu:\n",
    "    print(i)"
   ]
  },
  {
   "cell_type": "code",
   "execution_count": 56,
   "id": "bf66bde6",
   "metadata": {},
   "outputs": [
    {
     "name": "stdout",
     "output_type": "stream",
     "text": [
      "Geetu\n",
      "Vishu\n",
      "Gita\n"
     ]
    }
   ],
   "source": [
    "# but if you don't wanna get the key but you want to have values, so you can put your code like the way i made below \n",
    "for i in uu:\n",
    "    print(uu[i])"
   ]
  },
  {
   "cell_type": "code",
   "execution_count": 59,
   "id": "ac59d2a8",
   "metadata": {},
   "outputs": [
    {
     "ename": "TypeError",
     "evalue": "unhashable type: 'list'",
     "output_type": "error",
     "traceback": [
      "\u001b[1;31m---------------------------------------------------------------------------\u001b[0m",
      "\u001b[1;31mTypeError\u001b[0m                                 Traceback (most recent call last)",
      "Input \u001b[1;32mIn [59]\u001b[0m, in \u001b[0;36m<cell line: 3>\u001b[1;34m()\u001b[0m\n\u001b[0;32m      1\u001b[0m \u001b[38;5;66;03m# you can only use  constant as a key like tuple but you can't use list as an  key for a dictionary\u001b[39;00m\n\u001b[0;32m      2\u001b[0m \u001b[38;5;66;03m# Here is an example\u001b[39;00m\n\u001b[1;32m----> 3\u001b[0m li\u001b[38;5;241m=\u001b[39m{[\u001b[38;5;241m1\u001b[39m,\u001b[38;5;241m2\u001b[39m,\u001b[38;5;241m3\u001b[39m]:\u001b[38;5;124m'\u001b[39m\u001b[38;5;124mGeetanshu\u001b[39m\u001b[38;5;124m'\u001b[39m}\n\u001b[0;32m      4\u001b[0m li\n",
      "\u001b[1;31mTypeError\u001b[0m: unhashable type: 'list'"
     ]
    }
   ],
   "source": [
    "# you can only use  constant as a key like tuple but you can't use list as an  key for a dictionary\n",
    "# Here is an example where you can see tha you can not use list as a key in dictoinary \n",
    "li={[1,2,3]:'Geetanshu'}\n",
    "li"
   ]
  },
  {
   "cell_type": "code",
   "execution_count": 58,
   "id": "a746a964",
   "metadata": {},
   "outputs": [
    {
     "data": {
      "text/plain": [
       "{(1, 2, 3, 4): 'Geetanshu'}"
      ]
     },
     "execution_count": 58,
     "metadata": {},
     "output_type": "execute_result"
    }
   ],
   "source": [
    "#This amazng example proof that you can use tuple as a key in dictionary\n",
    "tu={(1,2,3,4):'Geetanshu'}\n",
    "tu"
   ]
  },
  {
   "cell_type": "code",
   "execution_count": 60,
   "id": "54b010fa",
   "metadata": {},
   "outputs": [],
   "source": [
    "# one more intresting thing about the dictionary is that , as we have our physical dictionary which is used to get \n",
    "#the meaning of any word an the whole dictionary is not having any duplicate but in this same thing will apply and \n",
    "#you can't can't get more then one value from same key .Even if you save 2 different values in the same key it will allow you\n",
    "#but you wil nnot be able to fetch the value from that key"
   ]
  },
  {
   "cell_type": "code",
   "execution_count": 63,
   "id": "f06ba455",
   "metadata": {},
   "outputs": [
    {
     "name": "stdout",
     "output_type": "stream",
     "text": [
      "Good\n",
      "Better\n",
      "Best\n",
      "cheap\n"
     ]
    }
   ],
   "source": [
    "#Example\n",
    "dii={'a':'Good','b':'Better','c':'Best','a ': 'cheap'}\n",
    "for i in dii:\n",
    "    print(dii[i])"
   ]
  },
  {
   "cell_type": "code",
   "execution_count": 64,
   "id": "1758dbf2",
   "metadata": {},
   "outputs": [
    {
     "data": {
      "text/plain": [
       "{'a': 'Good', 'b': 'Better', 'c': 'Best', 'a ': 'cheap'}"
      ]
     },
     "execution_count": 64,
     "metadata": {},
     "output_type": "execute_result"
    }
   ],
   "source": [
    "# Wow ! amazing but is is not follow the rule you have explained on the above line\n",
    "# Find the reason why?\n",
    "dii"
   ]
  },
  {
   "cell_type": "code",
   "execution_count": 65,
   "id": "57cdb3f1",
   "metadata": {},
   "outputs": [
    {
     "name": "stdout",
     "output_type": "stream",
     "text": [
      "cheap\n",
      "better\n",
      "best\n"
     ]
    }
   ],
   "source": [
    "dii1={'a':'Good','b':'better','c':'best','a':'cheap'}\n",
    "for i in dii1:\n",
    "    print(dii1[i])"
   ]
  },
  {
   "cell_type": "code",
   "execution_count": 68,
   "id": "500a1bfe",
   "metadata": {},
   "outputs": [
    {
     "data": {
      "text/plain": [
       "{'a': 'cheap', 'b': 'better', 'c': 'best'}"
      ]
     },
     "execution_count": 68,
     "metadata": {},
     "output_type": "execute_result"
    }
   ],
   "source": [
    "dii1\n",
    "#this is the thing what i have exlained earlier that duplicated key can't give you 2 values\n",
    "# but opposite can be possible that you can have a duplicate values but not key"
   ]
  },
  {
   "cell_type": "code",
   "execution_count": 72,
   "id": "b682ca6d",
   "metadata": {},
   "outputs": [
    {
     "data": {
      "text/plain": [
       "dict_values(['cheap', 'better', 'best'])"
      ]
     },
     "execution_count": 72,
     "metadata": {},
     "output_type": "execute_result"
    }
   ],
   "source": [
    "# Just check out this amazing thing ( to get these thing just write dictionary name and put a . the press 'tab')\n",
    "dii1.items()\n"
   ]
  },
  {
   "cell_type": "code",
   "execution_count": 73,
   "id": "86fd3721",
   "metadata": {},
   "outputs": [
    {
     "data": {
      "text/plain": [
       "dict_keys(['a', 'b', 'c'])"
      ]
     },
     "execution_count": 73,
     "metadata": {},
     "output_type": "execute_result"
    }
   ],
   "source": [
    "dii1.keys()\n"
   ]
  },
  {
   "cell_type": "code",
   "execution_count": 74,
   "id": "cdc1042b",
   "metadata": {},
   "outputs": [
    {
     "data": {
      "text/plain": [
       "dict_values(['cheap', 'better', 'best'])"
      ]
     },
     "execution_count": 74,
     "metadata": {},
     "output_type": "execute_result"
    }
   ],
   "source": [
    "dii1.values()"
   ]
  },
  {
   "cell_type": "code",
   "execution_count": 75,
   "id": "0526147a",
   "metadata": {},
   "outputs": [],
   "source": [
    "def dic1(a):\n",
    "    l=[]\n",
    "    for i in a:\n",
    "        if type(a[i])==dict:\n",
    "            l.append(list(a[i]))\n",
    "    return l\n"
   ]
  },
  {
   "cell_type": "code",
   "execution_count": 90,
   "id": "866364c3",
   "metadata": {},
   "outputs": [],
   "source": [
    "a={'s':{'a':1,'b':2,'c':3,'d':4,'e':5},'q':{'ab':'fd'},'c':'fsaf','d':[1,2,3],'e':{1:'sf',2:'fd'}}"
   ]
  },
  {
   "cell_type": "code",
   "execution_count": 91,
   "id": "053d6c89",
   "metadata": {},
   "outputs": [
    {
     "data": {
      "text/plain": [
       "[['a', 'b', 'c', 'd', 'e'], ['ab'], [1, 2]]"
      ]
     },
     "execution_count": 91,
     "metadata": {},
     "output_type": "execute_result"
    }
   ],
   "source": [
    "dic1(a)"
   ]
  },
  {
   "cell_type": "code",
   "execution_count": 93,
   "id": "0b541967",
   "metadata": {},
   "outputs": [
    {
     "data": {
      "text/plain": [
       "dict"
      ]
     },
     "execution_count": 93,
     "metadata": {},
     "output_type": "execute_result"
    }
   ],
   "source": [
    "type(a['q'])"
   ]
  },
  {
   "cell_type": "code",
   "execution_count": 94,
   "id": "f0915ce4",
   "metadata": {},
   "outputs": [],
   "source": [
    "# Till now we have seen that we can put any no. of input in the function using 'args'\n",
    "#But can we also put any no. of key value pairs\n",
    "#Let's try it\n",
    "def dic2(**kwargs):\n",
    "    return kwargs"
   ]
  },
  {
   "cell_type": "code",
   "execution_count": 95,
   "id": "569512f1",
   "metadata": {},
   "outputs": [
    {
     "data": {
      "text/plain": [
       "{'a': 1, 'b': 2, 'c': 'Geetanshu'}"
      ]
     },
     "execution_count": 95,
     "metadata": {},
     "output_type": "execute_result"
    }
   ],
   "source": [
    "dic2(a=1,b=2,c='Geetanshu')"
   ]
  },
  {
   "cell_type": "code",
   "execution_count": 96,
   "id": "3fbde4b7",
   "metadata": {},
   "outputs": [],
   "source": [
    "def dic3(**geet):\n",
    "    return geet"
   ]
  },
  {
   "cell_type": "code",
   "execution_count": 98,
   "id": "098148c4",
   "metadata": {},
   "outputs": [
    {
     "data": {
      "text/plain": [
       "{'a': 4, 'b': 78, 'c': '78'}"
      ]
     },
     "execution_count": 98,
     "metadata": {},
     "output_type": "execute_result"
    }
   ],
   "source": [
    "dic3(a=4,b=78,c='78')"
   ]
  },
  {
   "cell_type": "code",
   "execution_count": 142,
   "id": "2519e7c3",
   "metadata": {},
   "outputs": [
    {
     "data": {
      "text/plain": [
       "<function __main__.test10.<locals>.aa()>"
      ]
     },
     "execution_count": 142,
     "metadata": {},
     "output_type": "execute_result"
    }
   ],
   "source": [
    "#Let come to an intresting thing which is called Decorator , it hepls one functionn to get decorated by some other function\n",
    "def test10(a):\n",
    "    def aa():\n",
    "        print('Good going')\n",
    "        a()\n",
    "    return aa\n",
    "test10(a)"
   ]
  },
  {
   "cell_type": "markdown",
   "id": "c3827e2f",
   "metadata": {},
   "source": [
    "# Decorator"
   ]
  },
  {
   "cell_type": "code",
   "execution_count": 136,
   "id": "0b26a2d0",
   "metadata": {},
   "outputs": [],
   "source": []
  },
  {
   "cell_type": "code",
   "execution_count": 1,
   "id": "46f5088d",
   "metadata": {},
   "outputs": [
    {
     "ename": "NameError",
     "evalue": "name 'test11' is not defined",
     "output_type": "error",
     "traceback": [
      "\u001b[1;31m---------------------------------------------------------------------------\u001b[0m",
      "\u001b[1;31mNameError\u001b[0m                                 Traceback (most recent call last)",
      "Input \u001b[1;32mIn [1]\u001b[0m, in \u001b[0;36m<cell line: 1>\u001b[1;34m()\u001b[0m\n\u001b[1;32m----> 1\u001b[0m \u001b[43mtest11\u001b[49m()\n",
      "\u001b[1;31mNameError\u001b[0m: name 'test11' is not defined"
     ]
    }
   ],
   "source": []
  },
  {
   "cell_type": "code",
   "execution_count": 24,
   "id": "bf916b88",
   "metadata": {},
   "outputs": [
    {
     "name": "stdout",
     "output_type": "stream",
     "text": [
      "0\n",
      "1\n",
      "2\n",
      "3\n",
      "4\n",
      "5\n",
      "6\n",
      "7\n",
      "8\n",
      "9\n",
      "0.0\n"
     ]
    }
   ],
   "source": [
    "import time\n",
    "a=time.time()\n",
    "for i in range(10):\n",
    "    print(i)\n",
    "b=time.time()\n",
    "print(b-a)"
   ]
  },
  {
   "cell_type": "code",
   "execution_count": 25,
   "id": "52c298bb",
   "metadata": {},
   "outputs": [],
   "source": [
    "def timee(aa):\n",
    "    def test13():\n",
    "        print('Hi , why are you working till now')\n",
    "        a=time.time()\n",
    "        aa()\n",
    "        b=time.time()\n",
    "        print(b-a)\n",
    "    return test13"
   ]
  },
  {
   "cell_type": "code",
   "execution_count": 26,
   "id": "da97e704",
   "metadata": {},
   "outputs": [],
   "source": [
    "@timee\n",
    "def no():\n",
    "    l=0\n",
    "    for i in range(80):\n",
    "        l+=i\n",
    "    return l"
   ]
  },
  {
   "cell_type": "code",
   "execution_count": 27,
   "id": "7581ecdf",
   "metadata": {},
   "outputs": [
    {
     "name": "stdout",
     "output_type": "stream",
     "text": [
      "Hi , why are you working till now\n",
      "0.0\n"
     ]
    }
   ],
   "source": [
    "no()"
   ]
  },
  {
   "cell_type": "code",
   "execution_count": 19,
   "id": "1ebd8aa6",
   "metadata": {},
   "outputs": [],
   "source": [
    "def dec(a):\n",
    "    def inside():\n",
    "        print('It started')\n",
    "        a()\n",
    "        print('It ended')\n",
    "    return inside\n",
    "@dec\n",
    "def out():\n",
    "    print('Now it will work')"
   ]
  },
  {
   "cell_type": "code",
   "execution_count": 20,
   "id": "a24c5655",
   "metadata": {},
   "outputs": [
    {
     "name": "stdout",
     "output_type": "stream",
     "text": [
      "It started\n",
      "Now it will work\n",
      "It ended\n"
     ]
    }
   ],
   "source": [
    "out()"
   ]
  },
  {
   "cell_type": "code",
   "execution_count": 16,
   "id": "6d7a659c",
   "metadata": {},
   "outputs": [],
   "source": [
    "def test18(func) : \n",
    "    def test19():\n",
    "        print(\"i am inside test19 and this will behave a decorator to any function that i am going to call \")\n",
    "        func()\n",
    "    return test19"
   ]
  },
  {
   "cell_type": "code",
   "execution_count": 17,
   "id": "f14f38a8",
   "metadata": {},
   "outputs": [],
   "source": [
    "@test18\n",
    "def test20():\n",
    "    print(\"this is test20\")"
   ]
  },
  {
   "cell_type": "code",
   "execution_count": 18,
   "id": "ae32ed11",
   "metadata": {},
   "outputs": [
    {
     "name": "stdout",
     "output_type": "stream",
     "text": [
      "i am inside test19 and this will behave a decorator to any function that i am going to call \n",
      "this is test20\n"
     ]
    }
   ],
   "source": [
    "test20()"
   ]
  },
  {
   "cell_type": "code",
   "execution_count": 38,
   "id": "5f889d36",
   "metadata": {},
   "outputs": [],
   "source": [
    "def cal(a):\n",
    "    def ins():\n",
    "        b=time.time()\n",
    "        a()\n",
    "        c=time.time()\n",
    "        print('Time taken to execute the whole program is :',c-b)\n",
    "    return ins\n",
    "@cal\n",
    "def wait():\n",
    "    '''This is a functionn which is using decorator to calculating the time taken by function'''\n",
    "    time.sleep(2) # help to take pause of 2 sec\n",
    "    for i in range(10):\n",
    "        print(i)\n",
    "    "
   ]
  },
  {
   "cell_type": "code",
   "execution_count": 39,
   "id": "3cd14d57",
   "metadata": {},
   "outputs": [
    {
     "name": "stdout",
     "output_type": "stream",
     "text": [
      "0\n",
      "1\n",
      "2\n",
      "3\n",
      "4\n",
      "5\n",
      "6\n",
      "7\n",
      "8\n",
      "9\n",
      "Time taken to execute the whole program is : 2.0106070041656494\n"
     ]
    }
   ],
   "source": [
    "wait()"
   ]
  },
  {
   "cell_type": "code",
   "execution_count": null,
   "id": "637cb788",
   "metadata": {},
   "outputs": [],
   "source": [
    "wait()"
   ]
  }
 ],
 "metadata": {
  "kernelspec": {
   "display_name": "Python 3 (ipykernel)",
   "language": "python",
   "name": "python3"
  },
  "language_info": {
   "codemirror_mode": {
    "name": "ipython",
    "version": 3
   },
   "file_extension": ".py",
   "mimetype": "text/x-python",
   "name": "python",
   "nbconvert_exporter": "python",
   "pygments_lexer": "ipython3",
   "version": "3.9.12"
  }
 },
 "nbformat": 4,
 "nbformat_minor": 5
}
